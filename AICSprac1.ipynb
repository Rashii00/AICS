{
  "nbformat": 4,
  "nbformat_minor": 0,
  "metadata": {
    "colab": {
      "provenance": [],
      "authorship_tag": "ABX9TyOt7UkSVxEnaAZ7z8QP+w8K",
      "include_colab_link": true
    },
    "kernelspec": {
      "name": "python3",
      "display_name": "Python 3"
    },
    "language_info": {
      "name": "python"
    }
  },
  "cells": [
    {
      "cell_type": "markdown",
      "metadata": {
        "id": "view-in-github",
        "colab_type": "text"
      },
      "source": [
        "<a href=\"https://colab.research.google.com/github/Rashii00/AICS/blob/main/AICSprac1.ipynb\" target=\"_parent\"><img src=\"https://colab.research.google.com/assets/colab-badge.svg\" alt=\"Open In Colab\"/></a>"
      ]
    },
    {
      "cell_type": "code",
      "execution_count": 8,
      "metadata": {
        "id": "V8ZH0v7jciCb",
        "colab": {
          "base_uri": "https://localhost:8080/"
        },
        "outputId": "5f74ee1b-0cde-4adb-e6ec-009107fb331d"
      },
      "outputs": [
        {
          "output_type": "stream",
          "name": "stdout",
          "text": [
            "['1', '2', '3', '5']\n"
          ]
        }
      ],
      "source": [
        "list = [\"1\", \"2\", \"3\",\"4\",\"5\"]\n",
        "list.pop(3)\n",
        "print(list)"
      ]
    },
    {
      "cell_type": "code",
      "source": [
        "list = [\"1\", \"2\", \"3\", \"4\"]\n",
        "list.append(\"5\")\n",
        "print(list)"
      ],
      "metadata": {
        "colab": {
          "base_uri": "https://localhost:8080/"
        },
        "id": "uocUYW4XFLLl",
        "outputId": "45e8e110-93d0-49f9-c17e-8934cb1ca1d3"
      },
      "execution_count": 11,
      "outputs": [
        {
          "output_type": "stream",
          "name": "stdout",
          "text": [
            "['1', '2', '3', '4', '5']\n"
          ]
        }
      ]
    },
    {
      "cell_type": "code",
      "source": [
        "list = [\"1\", \"2\", \"3\", \"4\"]\n",
        "list.insert(0, \"0\")\n",
        "print(list)"
      ],
      "metadata": {
        "colab": {
          "base_uri": "https://localhost:8080/"
        },
        "id": "JfeV8DNbKHgl",
        "outputId": "25a6c13c-a845-4428-b208-d0969178436b"
      },
      "execution_count": 20,
      "outputs": [
        {
          "output_type": "stream",
          "name": "stdout",
          "text": [
            "['0', '1', '2', '3', '4']\n"
          ]
        }
      ]
    },
    {
      "cell_type": "code",
      "source": [
        "dict =\t{\"A\": \"1\", \"B\": \"2\", \"C\": 3, \"D\": \"4\"}\n",
        "dict.pop(\"D\")\n",
        "print(dict)"
      ],
      "metadata": {
        "colab": {
          "base_uri": "https://localhost:8080/"
        },
        "id": "M4qyCCTbHYZ5",
        "outputId": "8f541f76-ef75-4e4d-9343-feb86467c598"
      },
      "execution_count": 12,
      "outputs": [
        {
          "output_type": "stream",
          "name": "stdout",
          "text": [
            "{'A': '1', 'B': '2', 'C': 3}\n"
          ]
        }
      ]
    },
    {
      "cell_type": "code",
      "source": [
        "dict =\t{\"A\": \"1\", \"B\": \"2\", \"C\": 3, \"D\": \"4\"}\n",
        "dict.copy()\n",
        "print(dict)"
      ],
      "metadata": {
        "colab": {
          "base_uri": "https://localhost:8080/"
        },
        "id": "VvTUebqGHa_Z",
        "outputId": "26565d5b-9b41-469c-ab8d-255bba97f6c7"
      },
      "execution_count": 17,
      "outputs": [
        {
          "output_type": "stream",
          "name": "stdout",
          "text": [
            "{'A': '1', 'B': '2', 'C': 3, 'D': '4'}\n"
          ]
        }
      ]
    },
    {
      "cell_type": "code",
      "source": [
        "dict =\t{\"A\": \"1\", \"B\": \"2\", \"C\": 3, \"D\": \"4\"}\n",
        "dict.clear()\n",
        "print(dict)"
      ],
      "metadata": {
        "colab": {
          "base_uri": "https://localhost:8080/"
        },
        "id": "Mtm9C9VoIq7o",
        "outputId": "e8096f7b-7628-4371-d3e2-dadfd32226b0"
      },
      "execution_count": 18,
      "outputs": [
        {
          "output_type": "stream",
          "name": "stdout",
          "text": [
            "{}\n"
          ]
        }
      ]
    }
  ]
}